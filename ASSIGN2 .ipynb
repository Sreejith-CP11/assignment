{
 "cells": [
  {
   "cell_type": "markdown",
   "id": "0f942608-5089-4928-8ab7-48262fd8f7e6",
   "metadata": {},
   "source": [
    "# Assignment 2 \n"
   ]
  },
  {
   "cell_type": "markdown",
   "id": "b88472be-2437-47d9-8ca6-7a683d222ea1",
   "metadata": {},
   "source": [
    "## Q1"
   ]
  },
  {
   "cell_type": "code",
   "execution_count": null,
   "id": "b96c2819-2077-49f7-98fe-82ad9647c2ad",
   "metadata": {},
   "outputs": [],
   "source": [
    "###  Single line Comment code can be done using ## "
   ]
  },
  {
   "cell_type": "code",
   "execution_count": null,
   "id": "d34e25b2-e101-4a78-a73a-49c85d20a3b5",
   "metadata": {},
   "outputs": [],
   "source": [
    "### Multi line comment code using '''"
   ]
  },
  {
   "cell_type": "markdown",
   "id": "05845e49-ad96-45cb-b457-47795d17757e",
   "metadata": {},
   "source": [
    "## Q2"
   ]
  },
  {
   "cell_type": "code",
   "execution_count": null,
   "id": "441aa145-7d2b-4d9e-89bd-008dcd05e4e3",
   "metadata": {},
   "outputs": [],
   "source": [
    "## Variables are containers for storing data values."
   ]
  },
  {
   "cell_type": "code",
   "execution_count": null,
   "id": "f02a8f42-8420-49ef-9898-89040b3e7a1a",
   "metadata": {},
   "outputs": [],
   "source": [
    "## Python has no command for declaring a variable.\n",
    "\n",
    "## A variable is created the moment you first assign a value to it."
   ]
  },
  {
   "cell_type": "code",
   "execution_count": null,
   "id": "e6b18548-3e56-4edd-b825-4155cd7423d0",
   "metadata": {},
   "outputs": [],
   "source": [
    "## eg: \n",
    "    \n",
    "x = 5\n",
    "y = \"John\"\n",
    "print(x)\n",
    "print(y)"
   ]
  },
  {
   "cell_type": "markdown",
   "id": "e7fc3348-aced-4b7d-a1ab-c1b33472018a",
   "metadata": {},
   "source": [
    "## Q3"
   ]
  },
  {
   "cell_type": "code",
   "execution_count": null,
   "id": "d63d31a3-1f84-45d9-b411-04ceb4f29bad",
   "metadata": {},
   "outputs": [],
   "source": [
    "## Using typecasting it is possible to convert one data type to another in python \n",
    "\n",
    "## eg: \n",
    "    \n",
    "str='50\"\n",
    "str2= int(str)"
   ]
  },
  {
   "cell_type": "markdown",
   "id": "74084331-7ce9-4286-8189-0b8b5921a921",
   "metadata": {},
   "source": [
    "## Q4"
   ]
  },
  {
   "cell_type": "code",
   "execution_count": null,
   "id": "a39dbf33-c3df-47c4-b591-df7817627511",
   "metadata": {},
   "outputs": [],
   "source": [
    "## Select code in drop down and then type code and press shift+enter or run button "
   ]
  },
  {
   "cell_type": "markdown",
   "id": "2091e6b0-cfaa-41f1-9bd6-5bb458de5041",
   "metadata": {},
   "source": [
    "## Q5"
   ]
  },
  {
   "cell_type": "code",
   "execution_count": 5,
   "id": "14fbb640-7d23-4b11-a9e3-d455c4edefbf",
   "metadata": {},
   "outputs": [
    {
     "name": "stdout",
     "output_type": "stream",
     "text": [
      "[2, 3]\n"
     ]
    }
   ],
   "source": [
    "my_list=[1,2,3,4,5]\n",
    "print(my_list[1:3])"
   ]
  },
  {
   "cell_type": "markdown",
   "id": "8cb78b84-5558-462c-a52f-f86ddb1c50b4",
   "metadata": {},
   "source": [
    "## Q6"
   ]
  },
  {
   "cell_type": "code",
   "execution_count": null,
   "id": "42624ca2-6f1c-4d96-a1f5-98532f7a47a8",
   "metadata": {},
   "outputs": [],
   "source": [
    "## An complex number is represented by  x + yi , both real and imaginary part (i) "
   ]
  },
  {
   "cell_type": "code",
   "execution_count": 6,
   "id": "c28458c5-00ea-4756-9a65-ff434f14a70a",
   "metadata": {},
   "outputs": [],
   "source": [
    "z = 3 + 2j"
   ]
  },
  {
   "cell_type": "markdown",
   "id": "7a73816b-f25a-40ad-a538-2513c60c3a2b",
   "metadata": {},
   "source": [
    "## Q7"
   ]
  },
  {
   "cell_type": "code",
   "execution_count": 7,
   "id": "5aae40ba-80f0-4997-ae31-39c1ef7194a8",
   "metadata": {},
   "outputs": [],
   "source": [
    "age=25"
   ]
  },
  {
   "cell_type": "markdown",
   "id": "429f584d-58b2-45a5-87d2-619dfc15f27f",
   "metadata": {},
   "source": [
    "## Q8"
   ]
  },
  {
   "cell_type": "code",
   "execution_count": 8,
   "id": "91d9be48-4b60-4afb-b578-110cd8acc8e5",
   "metadata": {},
   "outputs": [
    {
     "data": {
      "text/plain": [
       "float"
      ]
     },
     "execution_count": 8,
     "metadata": {},
     "output_type": "execute_result"
    }
   ],
   "source": [
    "price=9.99\n",
    "type(price)"
   ]
  },
  {
   "cell_type": "markdown",
   "id": "9cdbc30b-6978-4c09-ae8b-741332418e33",
   "metadata": {},
   "source": [
    "## Q9"
   ]
  },
  {
   "cell_type": "code",
   "execution_count": 9,
   "id": "00714acf-00f1-4aa1-9200-38df3952e6f0",
   "metadata": {},
   "outputs": [
    {
     "name": "stdout",
     "output_type": "stream",
     "text": [
      "Sreejith\n"
     ]
    }
   ],
   "source": [
    "name= \"Sreejith\"\n",
    "print(name)"
   ]
  },
  {
   "cell_type": "markdown",
   "id": "475ddf26-38f1-4d56-a59d-4b198b8bf99d",
   "metadata": {},
   "source": [
    "## Q10"
   ]
  },
  {
   "cell_type": "code",
   "execution_count": 10,
   "id": "fb270895-37ca-47ac-ab86-23fa0e71f959",
   "metadata": {},
   "outputs": [],
   "source": [
    "string=\"Hello World!\""
   ]
  },
  {
   "cell_type": "code",
   "execution_count": 12,
   "id": "f4f017ac-c7b2-4706-bb66-3c14a42c988b",
   "metadata": {},
   "outputs": [
    {
     "name": "stdout",
     "output_type": "stream",
     "text": [
      "World\n"
     ]
    }
   ],
   "source": [
    "print(string[6:-1])"
   ]
  },
  {
   "cell_type": "markdown",
   "id": "dad8787c-410d-44b9-98f0-06dca1671023",
   "metadata": {},
   "source": [
    "## Q11"
   ]
  },
  {
   "cell_type": "code",
   "execution_count": 14,
   "id": "1d3dafbe-6862-4e00-816e-3e361f1d343f",
   "metadata": {},
   "outputs": [],
   "source": [
    "is_student=True"
   ]
  },
  {
   "cell_type": "code",
   "execution_count": 15,
   "id": "ab9c4c97-762d-42eb-9f90-8502edf144db",
   "metadata": {},
   "outputs": [
    {
     "data": {
      "text/plain": [
       "True"
      ]
     },
     "execution_count": 15,
     "metadata": {},
     "output_type": "execute_result"
    }
   ],
   "source": [
    "is_student"
   ]
  },
  {
   "cell_type": "code",
   "execution_count": null,
   "id": "de10fb7e-b3a6-49d9-bc58-6b4541fe1c74",
   "metadata": {},
   "outputs": [],
   "source": []
  }
 ],
 "metadata": {
  "kernelspec": {
   "display_name": "Python 3 (ipykernel)",
   "language": "python",
   "name": "python3"
  },
  "language_info": {
   "codemirror_mode": {
    "name": "ipython",
    "version": 3
   },
   "file_extension": ".py",
   "mimetype": "text/x-python",
   "name": "python",
   "nbconvert_exporter": "python",
   "pygments_lexer": "ipython3",
   "version": "3.10.8"
  }
 },
 "nbformat": 4,
 "nbformat_minor": 5
}
