{
 "cells": [
  {
   "cell_type": "markdown",
   "id": "71200f3f-c2e2-4028-90f5-f46e38742ca4",
   "metadata": {},
   "source": [
    "## Q1\n"
   ]
  },
  {
   "cell_type": "code",
   "execution_count": 8,
   "id": "04671703-c075-44e7-8a76-4ba04e2625c0",
   "metadata": {},
   "outputs": [
    {
     "data": {
      "text/plain": [
       "[1, 3, 5, 7, 9, 11, 13, 15, 17, 19, 21, 23, 25]"
      ]
     },
     "execution_count": 8,
     "metadata": {},
     "output_type": "execute_result"
    }
   ],
   "source": [
    "## def is used to create a function \n",
    "\n",
    "def test1():\n",
    "    n=[]\n",
    "    for i in range(26):\n",
    "        if i%2!=0:\n",
    "            n.append(i)\n",
    "    return n        \n",
    "test1()           \n",
    "    "
   ]
  },
  {
   "cell_type": "markdown",
   "id": "5604f100-e25e-4529-b3c8-35513c51d282",
   "metadata": {},
   "source": [
    "## Q2"
   ]
  },
  {
   "cell_type": "code",
   "execution_count": 9,
   "id": "51cd9c69-7705-445b-97a2-ce167618c336",
   "metadata": {},
   "outputs": [],
   "source": [
    "## We can pass a variable number of arguments to a function using special symbols. There are two special symbols:\n",
    "\n",
    "## *args (Non Keyword Arguments)\n",
    "## **kwargs (Keyword Arguments)\n",
    "## We use *args and **kwargs as an argument when we are unsure about the number of arguments to pass in the functions."
   ]
  },
  {
   "cell_type": "markdown",
   "id": "be0e03d3-86e1-4627-b373-d5be5e0fdbcd",
   "metadata": {},
   "source": [
    "## Q3"
   ]
  },
  {
   "cell_type": "code",
   "execution_count": 20,
   "id": "97511a52-33e0-4722-93da-85c42ca1f862",
   "metadata": {},
   "outputs": [
    {
     "name": "stdout",
     "output_type": "stream",
     "text": [
      "2\n",
      "4\n",
      "6\n",
      "8\n",
      "10\n"
     ]
    }
   ],
   "source": [
    "## Iterators are methods that iterate collections like lists, tuples, etc. Using an iterator method, \n",
    "## we can loop through an object and return its elements.\n",
    "\n",
    "# iter is used for initialise \n",
    "\n",
    "# for loop is used for iteration \n",
    "\n",
    "l=[2, 4, 6, 8, 10, 12, 14, 16,18,20]\n",
    "\n",
    "\n",
    "for i in l:\n",
    "    print(i)\n",
    "    if i==l[4]:\n",
    "        break \n",
    "    "
   ]
  },
  {
   "cell_type": "markdown",
   "id": "623920fa-21da-4d01-934a-cdd43bffeb30",
   "metadata": {},
   "source": [
    "## Q4"
   ]
  },
  {
   "cell_type": "code",
   "execution_count": 22,
   "id": "864ea9a1-10da-4d24-a1f1-21b8ee84ded1",
   "metadata": {},
   "outputs": [
    {
     "name": "stdout",
     "output_type": "stream",
     "text": [
      "[0, 2, 4, 6, 8]\n"
     ]
    }
   ],
   "source": [
    "## generator functions are those functions that, instead of returning a single value, \n",
    "## return an iterable generator object.\n",
    "\n",
    "\n",
    "def even_numbers(n):\n",
    "    for x in range(n):\n",
    "       if (x%2==0): \n",
    "           yield x       \n",
    "num = even_numbers(10)\n",
    "print(list(num))"
   ]
  },
  {
   "cell_type": "markdown",
   "id": "a5bf3fe4-5de2-4413-a316-60fd926774ee",
   "metadata": {},
   "source": [
    "## Q5"
   ]
  },
  {
   "cell_type": "code",
   "execution_count": 24,
   "id": "d480d134-20fb-4206-8bee-b9e2f99854a5",
   "metadata": {},
   "outputs": [
    {
     "name": "stdout",
     "output_type": "stream",
     "text": [
      "[2, 3, 5, 7, 11, 13, 17, 19, 23, 29, 31, 37, 41, 43, 47, 53, 59, 61, 67, 71, 73, 79, 83, 89, 97, 101, 103, 107, 109, 113, 127, 131, 137, 139, 149, 151, 157, 163, 167, 173, 179, 181, 191, 193, 197, 199, 211, 223, 227, 229, 233, 239, 241, 251, 257, 263, 269, 271, 277, 281, 283, 293, 307, 311, 313, 317, 331, 337, 347, 349, 353, 359, 367, 373, 379, 383, 389, 397, 401, 409, 419, 421, 431, 433, 439, 443, 449, 457, 461, 463, 467, 479, 487, 491, 499, 503, 509, 521, 523, 541, 547, 557, 563, 569, 571, 577, 587, 593, 599, 601, 607, 613, 617, 619, 631, 641, 643, 647, 653, 659, 661, 673, 677, 683, 691, 701, 709, 719, 727, 733, 739, 743, 751, 757, 761, 769, 773, 787, 797, 809, 811, 821, 823, 827, 829, 839, 853, 857, 859, 863, 877, 881, 883, 887, 907, 911, 919, 929, 937, 941, 947, 953, 967, 971, 977, 983, 991, 997]\n"
     ]
    },
    {
     "data": {
      "text/plain": [
       "[2,\n",
       " 3,\n",
       " 5,\n",
       " 7,\n",
       " 11,\n",
       " 13,\n",
       " 17,\n",
       " 19,\n",
       " 23,\n",
       " 29,\n",
       " 31,\n",
       " 37,\n",
       " 41,\n",
       " 43,\n",
       " 47,\n",
       " 53,\n",
       " 59,\n",
       " 61,\n",
       " 67,\n",
       " 71,\n",
       " 73,\n",
       " 79,\n",
       " 83,\n",
       " 89,\n",
       " 97]"
      ]
     },
     "execution_count": 24,
     "metadata": {},
     "output_type": "execute_result"
    }
   ],
   "source": [
    "import re\n",
    "\n",
    "\n",
    "def isprime(n):\n",
    "    return re.compile(r'^1?$|^(11+)\\1+$').match('1' * n) is None\n",
    "\n",
    "print([x for x in range(1000) if isprime(x)])\n",
    "\n",
    "###########Output#############\n",
    "[2, 3, 5, 7, 11, 13, 17, 19, 23, 29, 31, 37, 41, 43, 47, 53, 59, 61, 67, 71, 73, 79, 83, 89, 97]"
   ]
  },
  {
   "cell_type": "code",
   "execution_count": null,
   "id": "5800878b-b8d3-43a1-a38b-508a9e8bfddd",
   "metadata": {},
   "outputs": [],
   "source": []
  }
 ],
 "metadata": {
  "kernelspec": {
   "display_name": "Python 3 (ipykernel)",
   "language": "python",
   "name": "python3"
  },
  "language_info": {
   "codemirror_mode": {
    "name": "ipython",
    "version": 3
   },
   "file_extension": ".py",
   "mimetype": "text/x-python",
   "name": "python",
   "nbconvert_exporter": "python",
   "pygments_lexer": "ipython3",
   "version": "3.10.8"
  }
 },
 "nbformat": 4,
 "nbformat_minor": 5
}
