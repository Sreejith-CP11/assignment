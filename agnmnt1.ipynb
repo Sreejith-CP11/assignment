{
 "cells": [
  {
   "cell_type": "markdown",
   "id": "66adc84e-e367-4ed1-9204-3d01a1ffc6c6",
   "metadata": {},
   "source": [
    "## Q1\n"
   ]
  },
  {
   "cell_type": "code",
   "execution_count": 1,
   "id": "f6f21cf7-e625-458b-9338-e8d06c36d15e",
   "metadata": {},
   "outputs": [],
   "source": [
    "a='ambition'\n",
    "b=[\"apple\", \"banana\", \"cherry\"]\n",
    "c=12.5\n",
    "d=(\"apple\", \"banana\", \"cherry\")"
   ]
  },
  {
   "cell_type": "markdown",
   "id": "9eee35d6-bd50-4062-b2b6-0ef0ee45ab3f",
   "metadata": {},
   "source": [
    "## Q2"
   ]
  },
  {
   "cell_type": "code",
   "execution_count": 15,
   "id": "e8ff9eb8-08de-4026-bf3e-a2192aca18fb",
   "metadata": {},
   "outputs": [],
   "source": [
    "## 1.string\n",
    "## 2. string\n",
    "## 3.list\n",
    "## 4.float"
   ]
  },
  {
   "cell_type": "markdown",
   "id": "adb8405a-ee94-4d99-9509-65b46ff826ae",
   "metadata": {},
   "source": [
    "## Q3"
   ]
  },
  {
   "cell_type": "code",
   "execution_count": 16,
   "id": "c294d100-e098-479d-879d-2809986839b3",
   "metadata": {},
   "outputs": [],
   "source": [
    "## 1. Division \n",
    "## 2. Modulus\n",
    "## 3. Floor divison\n",
    "## 4. Exponentiation"
   ]
  },
  {
   "cell_type": "code",
   "execution_count": 17,
   "id": "3b7f9afd-f6a9-4677-8186-f36dc935b8e6",
   "metadata": {},
   "outputs": [
    {
     "name": "stdout",
     "output_type": "stream",
     "text": [
      "2.5\n",
      "1\n",
      "2\n",
      "32\n"
     ]
    }
   ],
   "source": [
    "a= 5/2\n",
    "print(a)\n",
    "b= 11%2\n",
    "print(b)\n",
    "c=5//2\n",
    "print(c)\n",
    "d=2**5\n",
    "print(d)\n",
    "\n"
   ]
  },
  {
   "cell_type": "markdown",
   "id": "f02a9a99-bede-4d3f-aa1e-ab31cfb45890",
   "metadata": {},
   "source": [
    "## Q4"
   ]
  },
  {
   "cell_type": "code",
   "execution_count": 19,
   "id": "772d6545-ceb9-4cd1-80a3-8800cec54108",
   "metadata": {},
   "outputs": [
    {
     "name": "stdout",
     "output_type": "stream",
     "text": [
      "2\n",
      "<class 'int'>\n",
      "CAT\n",
      "<class 'str'>\n",
      "3\n",
      "<class 'int'>\n",
      "4.5\n",
      "<class 'float'>\n",
      "[2, 'DEW']\n",
      "<class 'list'>\n",
      "GOAT\n",
      "<class 'str'>\n",
      "2\n",
      "<class 'int'>\n",
      "4\n",
      "<class 'int'>\n",
      "5\n",
      "<class 'int'>\n",
      "10\n",
      "<class 'int'>\n"
     ]
    }
   ],
   "source": [
    "L=[2, 'CAT', 3,4.5, [2,'DEW'], 'GOAT', 2,4,5,10]\n",
    "\n",
    "for i in L:\n",
    "    print(i)\n",
    "    print(type(i))"
   ]
  },
  {
   "cell_type": "markdown",
   "id": "8d0167b1-8532-448c-8c6e-c2e96b6f953c",
   "metadata": {},
   "source": [
    "## Q5"
   ]
  },
  {
   "cell_type": "code",
   "execution_count": null,
   "id": "37a9f1fe-f75a-46d0-bebc-f52669d6c562",
   "metadata": {},
   "outputs": [],
   "source": [
    "a=10\n",
    "b=2\n",
    "while a%b==0 :\n",
    "    print('a is purely divisible by b')\n"
   ]
  },
  {
   "cell_type": "markdown",
   "id": "318ef988-8c7a-4bcb-bf2e-6c0736008aed",
   "metadata": {},
   "source": [
    "## Q6"
   ]
  },
  {
   "cell_type": "code",
   "execution_count": null,
   "id": "b90dc9b8-c89c-4459-8704-7ea9963a9967",
   "metadata": {},
   "outputs": [],
   "source": [
    "list1=[10,11,12,13,14,15,16,17,18,19,20,21,22,23,24,25,26,27,28,29,30,31,32,33,34]\n",
    "\n",
    "for i in list1:\n",
    "    if i%3==0:\n",
    "         print(i, \"divisible by 3\")\n",
    "    else:\n",
    "        print(i, \"not divisible by 3\")\n",
    "    "
   ]
  },
  {
   "cell_type": "markdown",
   "id": "5c90095b-48ec-46bf-9318-54bd605ad209",
   "metadata": {},
   "source": [
    "## Q7"
   ]
  },
  {
   "cell_type": "code",
   "execution_count": null,
   "id": "d4ed2a79-b593-4588-92b1-6dddf9735a19",
   "metadata": {},
   "outputs": [],
   "source": [
    "## Mutable property means we can add new element and make change \n",
    "## Immutable means make change to the data type(eg: adding new element) is not possible \n",
    "\n",
    "## Mutable > list \n",
    "\n",
    "l=[1,2,3]\n",
    "l[2]=10. \n",
    "print(l)\n",
    "\n",
    "\n",
    "## immutable > tuple \n",
    "k=[1,2,3]\n",
    "k[2]=10\n",
    "print(k)\n"
   ]
  },
  {
   "cell_type": "code",
   "execution_count": null,
   "id": "ad8d50fd-8d96-4314-a8ae-5967ec15a0df",
   "metadata": {},
   "outputs": [],
   "source": []
  }
 ],
 "metadata": {
  "kernelspec": {
   "display_name": "Python 3 (ipykernel)",
   "language": "python",
   "name": "python3"
  },
  "language_info": {
   "codemirror_mode": {
    "name": "ipython",
    "version": 3
   },
   "file_extension": ".py",
   "mimetype": "text/x-python",
   "name": "python",
   "nbconvert_exporter": "python",
   "pygments_lexer": "ipython3",
   "version": "3.10.8"
  }
 },
 "nbformat": 4,
 "nbformat_minor": 5
}
